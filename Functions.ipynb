{
  "nbformat": 4,
  "nbformat_minor": 0,
  "metadata": {
    "colab": {
      "provenance": []
    },
    "kernelspec": {
      "name": "python3",
      "display_name": "Python 3"
    },
    "language_info": {
      "name": "python"
    }
  },
  "cells": [
    {
      "cell_type": "markdown",
      "source": [
        "# Theory Questions :"
      ],
      "metadata": {
        "id": "fCuuKgJ21Ngq"
      }
    },
    {
      "cell_type": "markdown",
      "source": [
        "Q-1 : What is the difference between a function and a method in Python?\n",
        ">* Method definition is always present inside the class, while the class is not required to define the function.\n",
        "* Functions can have a zero parameter, whereas the method should have a default parameter, either self or cls, to get the object.\n",
        "* The method operates the data in the class, while a function is used to return or pass the data.\n",
        "* A function can be directly called by its name, while a method can’t be called by its name.\n",
        "* The method lies under Object-Oriented Programming, while a function is an independent functionality."
      ],
      "metadata": {
        "id": "CXNYk0Y4fiRv"
      }
    },
    {
      "cell_type": "markdown",
      "source": [
        "Q-2 : Explain the concept of function parameters and arguments in Python.\n",
        "> Parameters :-\n",
        "\n",
        "* Parameters are the variables listed inside the parentheses in the function definition.\n",
        "* They act as placeholders for the values that the function will receive when it is called.\n",
        "* Parameters are part of the function's signature, defining the type and number of inputs a function can accept.\n",
        "* They are local to the function where they are defined.\n",
        "\n",
        "> Arguments :-\n",
        "\n",
        "* Arguments are the actual values that are passed to the function when it is called.\n",
        "* They provide the specific data that the function will operate on.\n",
        "* Arguments can be literals, variables, or expressions.\n",
        "* Arguments can be mutable or immutable depending on their data type."
      ],
      "metadata": {
        "id": "T77a-ajFgJSO"
      }
    },
    {
      "cell_type": "markdown",
      "source": [
        "Q-3 : What are the different ways to define and call a function in Python?\n",
        "> Defining a Function :\n",
        "\n",
        "* Using the def keyword :\n",
        "Functions in Python are defined using the def keyword, followed by the function name, parentheses (), and a colon :.\n",
        "* Parameters :\n",
        "Inside the parentheses, you can specify parameters (inputs) that the function will receive. These are optional.\n",
        "* Function Body :\n",
        "The code that the function executes is indented below the def line.\n",
        "* return statement:\n",
        "Optionally, a function can return a value using the return statement. If no return statement is present, the function implicitly returns None.\n",
        "\n",
        "> Different ways to call a function :\n",
        "\n",
        "* Positional Arguments:\n",
        "Arguments are passed based on their position in the function definition.\n",
        "* Keyword Arguments:\n",
        "Arguments are passed using the parameter names. This allows for arguments to be passed in any order.\n",
        "* Default Arguments:\n",
        "Parameters can have default values, which are used if no argument is provided for that parameter during the function call.\n",
        "* Variable-Length Arguments:\n",
        "Functions can accept a variable number of arguments using *args (for positional arguments) and **kwargs (for keyword arguments)."
      ],
      "metadata": {
        "id": "Boc_mMLOh4qX"
      }
    },
    {
      "cell_type": "markdown",
      "source": [
        "Q-4 : What is the purpose of the return statement in a Python function?\n",
        "> A return statement is used to end the execution of the function call and it \"returns\" the value of the expression following the return keyword to the caller. The statements after the return statements are not executed. If the return statement is without any expression, then the special value None is returned. A return statement is overall used to invoke a function so that the passed statements can be executed."
      ],
      "metadata": {
        "id": "1TnyyfEDjmn8"
      }
    },
    {
      "cell_type": "markdown",
      "source": [
        "Q-5 : What are iterators in Python and how do they differ from iterables?\n",
        "> Iterable is an object, that one can iterate over. It generates an Iterator when passed to iter() method. An iterator is an object, which is used to iterate over an iterable object using the _next() method. Iterators have the __next_() method, which returns the next item of the object.\n",
        "\n",
        ">Every iterator is also an iterable, but not every iterable is an iterator in Python.\n",
        "\n",
        ">For example, a list is iterable but a list is not an iterator. An iterator can be created from an iterable by using the function iter(). To make this possible, the class of an object needs either a method _iter, which returns an iterator, or a __getitem_ method with sequential indexes starting with 0."
      ],
      "metadata": {
        "id": "9Ieb_iiZn6GJ"
      }
    },
    {
      "cell_type": "markdown",
      "source": [
        "Q-6 : Explain the concept of generators in Python and how they are defined.\n",
        "> In Python, a generator is a special type of iterator that produces a sequence of values on demand, rather than storing them all in memory at once. This makes them memory-efficient, especially when dealing with large datasets or infinite sequences. Generators are defined using functions and the yield keyword.\n",
        "\n",
        "> Defining a Generator Function:\n",
        "\n",
        "> * A generator function is defined like a regular function, but it uses the yield keyword instead of return.\n",
        "When a generator function is called, it doesn't execute the code immediately. Instead, it returns a generator object.\n",
        "The generator object is an iterator that can be used to produce the sequence of values defined in the function.\n",
        "Each time the next() function is called on the generator object, the function executes until it encounters a yield statement, which returns the yielded value and pauses the function's execution.\n",
        "The generator function's state is preserved between calls to next(), allowing it to continue from where it left off."
      ],
      "metadata": {
        "id": "CKRUcxYvoVsJ"
      }
    },
    {
      "cell_type": "markdown",
      "source": [
        "Q-7 : What are the advantages of using generators over regular functions?\n",
        "> Normal functions in Python are used for traditional computation tasks, with execution proceeding from start to finish, typically returning a single result. On the other hand, generator functions employ the yield statement to produce values lazily, preserving their state across multiple calls. This allows generators to efficiently handle large datasets or infinite sequences by yielding values one at a time and pausing execution when necessary, making them a valuable tool for memory-efficient and iterative tasks."
      ],
      "metadata": {
        "id": "dYYXvrVLwZy0"
      }
    },
    {
      "cell_type": "markdown",
      "source": [
        "Q-8 : What is a lambda function in Python and when is it typically used?\n",
        "> In Python, a lambda function is a small, anonymous function defined using the lambda keyword. It can take any number of arguments but can only have one expression. Lambda functions are typically used for short, concise operations, especially when passing functions as arguments to higher-order functions like map, filter, or reduce.\n",
        "\n",
        "> Key Characteristics of Lambda Functions:\n",
        "\n",
        "* Anonymous: They don't have a name, unlike regular functions defined with def.\n",
        "* Single Expression: Lambda functions can only contain a single expression, which is automatically returned.\n",
        "* Concise: They provide a way to create small, throwaway functions quickly, without needing a full function definition.\n",
        "\n",
        "\n",
        "> When to Use Lambda Functions:\n",
        "\n",
        "* Higher-Order Functions:\n",
        "When we need to pass a simple function as an argument to functions like map, filter, or reduce.\n",
        "* Short, Simple Operations:\n",
        "For tasks that can be expressed concisely in a single line, such as simple mathematical calculations, data filtering, or transformations.\n",
        "* Inline Function Definition:\n",
        "When you want to avoid defining a separate named function for a small, specific purpose."
      ],
      "metadata": {
        "id": "4tYc-SVxxci6"
      }
    },
    {
      "cell_type": "markdown",
      "source": [
        "Q-9 : Explain the purpose and usage of the map() function in Python.\n",
        "> The map() function in Python is a built-in higher-order function that applies a given function to each item of an iterable (like a list, tuple, or set) and returns an iterator that yields the results. It provides a concise and often more efficient way to transform data within iterables compared to traditional for loops, especially for large datasets.\n",
        "\n",
        "Purpose:\n",
        "\n",
        "The primary purpose of map() is to perform an element-wise transformation on an iterable. This means applying the same operation to every item in the sequence, generating a new sequence containing the modified items.\n",
        "\n",
        "Usage:\n",
        "\n",
        "The syntax for map() is:\n",
        "Python map(function, iterable, ...)\n",
        "\n",
        "function:\n",
        "This is the function that map() will apply to each item of the iterable. It can be a named function or an anonymous lambda function.\n",
        "\n",
        "iterable:\n",
        "This is the sequence (e.g., list, tuple) whose elements will be passed to the function. Multiple iterables can be provided if the function accepts multiple arguments."
      ],
      "metadata": {
        "id": "XYhvdX8cGwRr"
      }
    },
    {
      "cell_type": "markdown",
      "source": [
        "Q-10 : What is the difference between map(), reduce(), and filter() functions in Python?\n",
        ">The map(), reduce(), and filter() functions in Python are higher-order functions used for processing iterables, each serving a distinct purpose:\n",
        "\n",
        "* map(function, iterable):\n",
        "\n",
        "Purpose: Applies a given function to each item in an iterable and returns an iterator that yields the results.\n",
        "\n",
        "Output: A new iterable (specifically, a map object) with the same number of elements as the input, where each element is the result of applying the function.\n",
        "\n",
        "Example: To square each number in a list: list(map(lambda x: x*x, [1, 2, 3])) would result in [1, 4, 9].\n",
        "\n",
        "* filter(function, iterable):\n",
        "\n",
        "Purpose: Constructs an iterator from elements of an iterable for which a given function returns True.\n",
        "\n",
        "Output: A new iterable (a filter object) containing only the elements from the input iterable that satisfy the condition defined by the function.\n",
        "\n",
        "Example: To get even numbers from a list: list(filter(lambda x: x % 2 == 0, [1, 2, 3, 4])) would result in [2, 4].\n",
        "\n",
        "* reduce(function, iterable, [initializer]):\n",
        "\n",
        "Purpose: Applies a function of two arguments cumulatively to the items of an iterable from left to right, reducing the iterable to a single value. It requires importing from the functools module.\n",
        "\n",
        "Output: A single, aggregated value.\n",
        "\n",
        "Example: To sum all numbers in a list: from functools import reduce; reduce(lambda x, y: x + y, [1, 2, 3, 4]) would result in 10.\n",
        "\n",
        "In summary:\n",
        "* map() transforms: each element individually.\n",
        "* filter() selects: elements based on a condition.\n",
        "* reduce() aggregates: elements into a single result.\n",
        "\n"
      ],
      "metadata": {
        "id": "wAxuL9dgHw2t"
      }
    },
    {
      "cell_type": "markdown",
      "source": [
        "11. Using pen & Paper write the internal mechanism for sum operation using  reduce function on this given list:[47,11,42,13]\n",
        ">Drive Link = (\"https://drive.google.com/file/d/1-ecmyMbGcg8XMIQ0Xv_dZWwk9TT7YUJa/view?usp=sharing\")\n"
      ],
      "metadata": {
        "id": "fhFGnSOpJcNE"
      }
    },
    {
      "cell_type": "markdown",
      "source": [
        "# Practical Questions :"
      ],
      "metadata": {
        "id": "uiJdOLIG1Vkq"
      }
    },
    {
      "cell_type": "code",
      "source": [
        "#  Q-1 : Write a Python function that takes a list of numbers as input and returns the sum of all even numbers in the list.\n",
        "\n",
        "def sum_of_even_numbers(numbers):\n",
        "    return sum(num for num in numbers if num % 2 == 0)\n",
        "my_list = [1, 2, 3, 4, 5, 6]\n",
        "print(my_list)\n",
        "result = sum_of_even_numbers(my_list)\n",
        "print(\"Sum of even numbers :\",result)\n",
        "\n"
      ],
      "metadata": {
        "colab": {
          "base_uri": "https://localhost:8080/"
        },
        "id": "Bk1qXa0W1fmj",
        "outputId": "52b87491-f0cc-4fae-bb77-4de058450d1f"
      },
      "execution_count": null,
      "outputs": [
        {
          "output_type": "stream",
          "name": "stdout",
          "text": [
            "[1, 2, 3, 4, 5, 6]\n",
            "Sum of even numbers : 12\n"
          ]
        }
      ]
    },
    {
      "cell_type": "code",
      "source": [
        "# Q-2 : Create a Python function that accepts a string and returns the reverse of that string.\n",
        "\n",
        "def reverse_string(s):\n",
        "    return s[::-1]\n",
        "input_str = input(\"Input String : \")\n",
        "reversed_str = reverse_string(input_str)\n",
        "print(\"Reverses String :\",reversed_str)\n"
      ],
      "metadata": {
        "id": "TGXBtgbe29-T",
        "colab": {
          "base_uri": "https://localhost:8080/"
        },
        "outputId": "1bacb857-d1ed-4bcb-d6dc-417c551effb8"
      },
      "execution_count": null,
      "outputs": [
        {
          "output_type": "stream",
          "name": "stdout",
          "text": [
            "Input String : Sagar Mitra\n",
            "Reverses String : artiM ragaS\n"
          ]
        }
      ]
    },
    {
      "cell_type": "code",
      "source": [
        "# Q-3 : Implement a Python function that takes a list of integers and returns a new list containing the squares of each number.\n",
        "\n",
        "def square_numbers(numbers):\n",
        "    return [x**2 for x in numbers]\n",
        "input_list = [3, 5, 7, 9, 11]\n",
        "print(\"Input List :\",input_list)\n",
        "squared_list = square_numbers(input_list)\n",
        "print(\"Square of List :\",squared_list)\n"
      ],
      "metadata": {
        "colab": {
          "base_uri": "https://localhost:8080/"
        },
        "id": "ukOlxvZi3uW3",
        "outputId": "2dbcb8f1-c7db-442b-f248-34632942c091"
      },
      "execution_count": null,
      "outputs": [
        {
          "output_type": "stream",
          "name": "stdout",
          "text": [
            "Input List : [3, 5, 7, 9, 11]\n",
            "Square of List : [9, 25, 49, 81, 121]\n"
          ]
        }
      ]
    },
    {
      "cell_type": "code",
      "source": [
        "# Q-4 : Write a Python function that checks if a given number is prime or not from 1 to 200.\n",
        "\n",
        "def is_prime(n):\n",
        "    if n <= 1:\n",
        "        return False\n",
        "    if n == 2:\n",
        "        return True\n",
        "    if n % 2 == 0:\n",
        "        return False\n",
        "\n",
        "    for i in range(3, int(n**0.5) + 1, 2):\n",
        "        if n % i == 0:\n",
        "            return False\n",
        "    return True\n",
        "\n",
        "number = int(input(\"Enter Number from 1 to 200 : \"))\n",
        "if is_prime(number):\n",
        "    print(f\"{number} is a prime number.\")\n",
        "else:\n",
        "    print(f\"{number} is not a prime number.\")\n"
      ],
      "metadata": {
        "colab": {
          "base_uri": "https://localhost:8080/"
        },
        "id": "Gzrujidi5ZJQ",
        "outputId": "33c43652-ae17-459a-fb38-ec431d4afb68"
      },
      "execution_count": null,
      "outputs": [
        {
          "output_type": "stream",
          "name": "stdout",
          "text": [
            "Enter Number from 1 to 200 : 67\n",
            "67 is a prime number.\n"
          ]
        }
      ]
    },
    {
      "cell_type": "code",
      "source": [
        "# Q-5 : Create an iterator class in Python that generates the Fibonacci sequence up to a specified number of terms.\n",
        "\n",
        "class FibonacciIterator:\n",
        "    def __init__(self, num_terms):\n",
        "        self.num_terms = num_terms\n",
        "        self.count = 0\n",
        "        self.a = 0\n",
        "        self.b = 1\n",
        "\n",
        "    def __iter__(self):\n",
        "        return self\n",
        "\n",
        "    def __next__(self):\n",
        "        if self.count >= self.num_terms:\n",
        "            raise StopIteration\n",
        "        if self.count == 0:\n",
        "            self.count += 1\n",
        "            return self.a\n",
        "        elif self.count == 1:\n",
        "            self.count += 1\n",
        "            return self.b\n",
        "        else:\n",
        "            self.a, self.b = self.b, self.a + self.b\n",
        "            self.count += 1\n",
        "            return self.b\n",
        "\n",
        "fib = FibonacciIterator(10)\n",
        "for num in fib:\n",
        "    print(\"Fibonacci Sequence :\",num)\n"
      ],
      "metadata": {
        "colab": {
          "base_uri": "https://localhost:8080/"
        },
        "id": "yEnLHaVX7k1l",
        "outputId": "2bae5577-c86f-44c1-ad3f-e12a3f5f27d8"
      },
      "execution_count": null,
      "outputs": [
        {
          "output_type": "stream",
          "name": "stdout",
          "text": [
            "Fibonacci Sequence : 0\n",
            "Fibonacci Sequence : 1\n",
            "Fibonacci Sequence : 1\n",
            "Fibonacci Sequence : 2\n",
            "Fibonacci Sequence : 3\n",
            "Fibonacci Sequence : 5\n",
            "Fibonacci Sequence : 8\n",
            "Fibonacci Sequence : 13\n",
            "Fibonacci Sequence : 21\n",
            "Fibonacci Sequence : 34\n"
          ]
        }
      ]
    },
    {
      "cell_type": "code",
      "source": [
        "# Q-6 : Write a generator function in Python that yields the powers of 2 up to a given exponent.\n",
        "\n",
        "def powers_of_two(max_exponent):\n",
        "    for exponent in range(max_exponent + 1):\n",
        "        yield 2 ** exponent\n",
        "\n",
        "for value in powers_of_two(5):\n",
        "    print(value)\n"
      ],
      "metadata": {
        "colab": {
          "base_uri": "https://localhost:8080/"
        },
        "id": "kSSE7KiF8ZlG",
        "outputId": "a2374c4b-aba9-4bf0-8b00-1668fda2ec43"
      },
      "execution_count": null,
      "outputs": [
        {
          "output_type": "stream",
          "name": "stdout",
          "text": [
            "1\n",
            "2\n",
            "4\n",
            "8\n",
            "16\n",
            "32\n"
          ]
        }
      ]
    },
    {
      "source": [
        "# Q-7 : Implement a generator function that reads a file line by line and yields each line as a string.\n"
      ],
      "cell_type": "code",
      "metadata": {
        "id": "WOt6Ya7MB-6c"
      },
      "execution_count": null,
      "outputs": []
    },
    {
      "cell_type": "code",
      "source": [
        "# Q-8 : Use a lambda function in Python to sort a list of tuples based on the second element of each tuple.\n",
        "\n",
        "data = [(1, 3), (4, 1), (2, 5), (3, 2)]\n",
        "sorted_data = sorted(data, key=lambda x: x[1])\n",
        "print(\"Sorted Tuple :\",sorted_data)\n"
      ],
      "metadata": {
        "colab": {
          "base_uri": "https://localhost:8080/"
        },
        "id": "NRtlWLiyCS_O",
        "outputId": "d02780b7-0656-47e2-d271-177a6c75c6d4"
      },
      "execution_count": null,
      "outputs": [
        {
          "output_type": "stream",
          "name": "stdout",
          "text": [
            "Sorted Tuple : [(4, 1), (3, 2), (1, 3), (2, 5)]\n"
          ]
        }
      ]
    },
    {
      "cell_type": "code",
      "source": [
        "# Q-9 : Write a Python program that uses `map()` to convert a list of temperatures from Celsius to Fahrenheit.\n",
        "\n",
        "def celsius_to_fahrenheit(c):\n",
        "    return (c * 9/5) + 32\n",
        "celsius_temps = [0, 20, 30, 37, 100]\n",
        "print(\"Celsius Temperatures :\",celsius_temps)\n",
        "fahrenheit_temps = list(map(celsius_to_fahrenheit, celsius_temps))\n",
        "print(\"Fahrenheit Temperature :\",fahrenheit_temps)\n"
      ],
      "metadata": {
        "colab": {
          "base_uri": "https://localhost:8080/"
        },
        "id": "t0slXiAXCwbN",
        "outputId": "9bd8dcf4-8150-41c2-9b70-8821d7ff2ac7"
      },
      "execution_count": null,
      "outputs": [
        {
          "output_type": "stream",
          "name": "stdout",
          "text": [
            "Celsius Temperatures : [0, 20, 30, 37, 100]\n",
            "Fahrenheit Temperature : [32.0, 68.0, 86.0, 98.6, 212.0]\n"
          ]
        }
      ]
    },
    {
      "cell_type": "code",
      "source": [
        "# Q-10 : Create a Python program that uses `filter()` to remove all the vowels from a given string.\n",
        "\n",
        "def remove_vowels(input_str):\n",
        "    vowels = 'aeiouAEIOU'\n",
        "    return ''.join(filter(lambda char: char not in vowels, input_str))\n",
        "\n",
        "text = input(\"Input text : \")\n",
        "no_vowels = remove_vowels(text)\n",
        "print(\"Text without Vowel :\",no_vowels)\n"
      ],
      "metadata": {
        "colab": {
          "base_uri": "https://localhost:8080/"
        },
        "id": "aT8sTWovD9o1",
        "outputId": "140adcfa-016c-4a0a-c643-ba30b6b3b3cd"
      },
      "execution_count": null,
      "outputs": [
        {
          "output_type": "stream",
          "name": "stdout",
          "text": [
            "Input text : Sagar Mitra\n",
            "Text without Vowel : Sgr Mtr\n"
          ]
        }
      ]
    },
    {
      "cell_type": "code",
      "source": [
        "'''Q-11 : Imagine an accounting routine used in a book shop. It works on a list with sublists, which look like this:\n",
        "\n",
        "Write a Python program, which returns a list with 2-tuples. Each tuple consists of the order number and the\n",
        "product of the price per item and the quantity. The product should be increased by 10,- € if the value of the\n",
        "order is smaller than 100,00 €.\n",
        "\n",
        "Write a Python program using lambda and map '''\n",
        "\n",
        "o = [\n",
        "    [34587, \"Learning Python, Mark Lutz\", 4, 40.95],\n",
        "    [98762, \"Programming Python, Mark Lutz\", 5, 56.80],\n",
        "    [77226, \"Head First Python, Paul Barry\", 3, 32.95],\n",
        "    [88112, \"Einführung in Python3, Bernd Klein\", 3, 24.99]\n",
        "]\n",
        "\n",
        "r = list(map(lambda n: (\n",
        "    n[0],\n",
        "    n[2] * n[3] + 10 if n[2] * n[3] < 100 else n[2] * n[3]\n",
        "), o))\n",
        "\n",
        "print(r)\n"
      ],
      "metadata": {
        "id": "LheLXqqH7rys",
        "colab": {
          "base_uri": "https://localhost:8080/"
        },
        "outputId": "0e884ced-ba83-4ba8-fdf7-e4e6d0b10aba"
      },
      "execution_count": 2,
      "outputs": [
        {
          "output_type": "stream",
          "name": "stdout",
          "text": [
            "[(34587, 163.8), (98762, 284.0), (77226, 108.85000000000001), (88112, 84.97)]\n"
          ]
        }
      ]
    }
  ]
}